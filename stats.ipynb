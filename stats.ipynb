{
 "cells": [
  {
   "cell_type": "code",
   "execution_count": 29,
   "metadata": {},
   "outputs": [],
   "source": [
    "import pandas as pd\n",
    "import numpy as np\n",
    "import seaborn as sns\n",
    "import matplotlib.pyplot as plt\n",
    "from functools import reduce"
   ]
  },
  {
   "cell_type": "code",
   "execution_count": 4,
   "metadata": {},
   "outputs": [
    {
     "name": "stderr",
     "output_type": "stream",
     "text": [
      "b'Skipping line 4544618: expected 63 fields, saw 113\\n'\n",
      "/Users/bhuvesh/opt/anaconda3/lib/python3.7/site-packages/IPython/core/interactiveshell.py:3063: DtypeWarning: Columns (13,18,19,20,48,59,61,62) have mixed types.Specify dtype option on import or set low_memory=False.\n",
      "  interactivity=interactivity, compiler=compiler, result=result)\n"
     ]
    }
   ],
   "source": [
    "voter_list = pd.read_csv('data/voterlist.txt', sep = \"|\", error_bad_lines = False)"
   ]
  },
  {
   "cell_type": "code",
   "execution_count": 4,
   "metadata": {},
   "outputs": [],
   "source": [
    "plt.rcParams['figure.figsize'] = (9,6)\n",
    "sns.set()"
   ]
  },
  {
   "cell_type": "code",
   "execution_count": 9,
   "metadata": {},
   "outputs": [
    {
     "name": "stderr",
     "output_type": "stream",
     "text": [
      "/Users/bhuvesh/opt/anaconda3/lib/python3.7/site-packages/IPython/core/interactiveshell.py:3063: DtypeWarning: Columns (6,12,28,29) have mixed types.Specify dtype option on import or set low_memory=False.\n",
      "  interactivity=interactivity, compiler=compiler, result=result)\n"
     ]
    }
   ],
   "source": [
    "absent_list = pd.read_csv('data/1103/state.csv', error_bad_lines = False)"
   ]
  },
  {
   "cell_type": "code",
   "execution_count": 13,
   "metadata": {},
   "outputs": [],
   "source": [
    "joined_df = absent_list.join(voter_list.set_index('REGISTRATION_NUMBER'), on='Voter Registration #')"
   ]
  },
  {
   "cell_type": "code",
   "execution_count": 18,
   "metadata": {},
   "outputs": [],
   "source": [
    "joined_df.to_pickle('data/1103_joined.pkl')"
   ]
  },
  {
   "cell_type": "code",
   "execution_count": 19,
   "metadata": {},
   "outputs": [],
   "source": [
    "joined_df.to_csv('data/1103_joined.csv', index=False)"
   ]
  },
  {
   "cell_type": "code",
   "execution_count": 3,
   "metadata": {},
   "outputs": [],
   "source": [
    "joined_df = pd.read_pickle('data/1103_joined.pkl')"
   ]
  },
  {
   "cell_type": "code",
   "execution_count": 21,
   "metadata": {},
   "outputs": [
    {
     "name": "stdout",
     "output_type": "stream",
     "text": [
      "['County', 'Voter Registration #', 'Last Name', 'First Name', 'Middle Name', 'Suffix', 'Street #', 'Street Name', 'Apt/Unit', 'City', 'State', 'Zip Code', 'Mailing Street #', 'Mailing Street Name', 'Mailing Apt/Unit', 'Mailing City', 'Mailing State', 'Mailing Zip Code', 'Application Status', 'Ballot Status', 'Status Reason', 'Application Date', 'Ballot Issued Date', 'Ballot Return Date', 'Ballot Style', 'Ballot Assisted', 'Challenged/Provisional', 'ID Required', 'Municipal Precinct', 'County Precinct', 'CNG', 'SEN', 'HOUSE\\t', 'JUD', 'Combo #', 'Vote Center ID', 'Ballot ID', 'Post #', 'Party', 'COUNTY_CODE', 'VOTER_STATUS', 'LAST_NAME', 'FIRST_NAME', 'MIDDLE_MAIDEN_NAME', 'NAME_SUFFIX', 'NAME_TITLE', 'RESIDENCE_HOUSE_NUMBER', 'RESIDENCE_STREET_NAME', 'RESIDENCE_STREET_SUFFIX', 'RESIDENCE_APT_UNIT_NBR', 'RESIDENCE_CITY', 'RESIDENCE_ZIPCODE', 'BIRTHDATE', 'REGISTRATION_DATE', 'RACE', 'GENDER', 'LAND_DISTRICT', 'LAND_LOT', 'STATUS_REASON', 'COUNTY_PRECINCT_ID', 'CITY_PRECINCT_ID', 'CONGRESSIONAL_DISTRICT', 'SENATE_DISTRICT', 'HOUSE_DISTRICT', 'JUDICIAL_DISTRICT', 'COMMISSION_DISTRICT', 'SCHOOL_DISTRICT', 'COUNTY_DISTRICTA_NAME', 'COUNTY_DISTRICTA_VALUE', 'COUNTY_DISTRICTB_NAME', 'COUNTY_DISTRICTB_VALUE', 'MUNICIPAL_NAME', 'MUNICIPAL_CODE', 'WARD_CITY_COUNCIL_NAME', 'WARD_CITY_COUNCIL_CODE', 'CITY_SCHOOL_DISTRICT_NAME', 'CITY_SCHOOL_DISTRICT_VALUE', 'CITY_DISTA_NAME', 'CITY_DISTA_VALUE', 'CITY_DISTB_NAME', 'CITY_DISTB_VALUE', 'CITY_DISTC_NAME', 'CITY_DISTC_VALUE', 'CITY_DISTD_NAME', 'CITY_DISTD_VALUE', 'DATE_LAST_VOTED', 'PARTY_LAST_VOTED', 'DATE_ADDED', 'DATE_CHANGED', 'DISTRICT_COMBO', 'RACE_DESC', 'LAST_CONTACT_DATE', 'MAIL_HOUSE_NBR', 'MAIL_STREET_NAME', 'MAIL_APT_UNIT_NBR', 'MAIL_CITY', 'MAIL_STATE', 'MAIL_ZIPCODE', 'MAIL_ADDRESS_2', 'MAIL_ADDRESS_3', 'MAIL_COUNTRY']\n"
     ]
    }
   ],
   "source": [
    "print(joined_df.columns.tolist())"
   ]
  },
  {
   "cell_type": "code",
   "execution_count": 20,
   "metadata": {},
   "outputs": [
    {
     "data": {
      "text/plain": [
       "(4505778, 101)"
      ]
     },
     "execution_count": 20,
     "metadata": {},
     "output_type": "execute_result"
    }
   ],
   "source": [
    "joined_df.shape"
   ]
  },
  {
   "cell_type": "code",
   "execution_count": 22,
   "metadata": {},
   "outputs": [
    {
     "data": {
      "text/plain": [
       "array(['Black not of Hispanic Origin', 'White not of Hispanic Origin',\n",
       "       'Unknown', nan, 'American Indian or Alaskan Native', 'Hispanic',\n",
       "       'Other', 'Asian or Pacific Islander'], dtype=object)"
      ]
     },
     "execution_count": 22,
     "metadata": {},
     "output_type": "execute_result"
    }
   ],
   "source": [
    "joined_df.RACE_DESC.unique()"
   ]
  },
  {
   "cell_type": "code",
   "execution_count": 4,
   "metadata": {},
   "outputs": [],
   "source": [
    "clean_df = joined_df.dropna(subset=['RACE_DESC'])"
   ]
  },
  {
   "cell_type": "code",
   "execution_count": 5,
   "metadata": {},
   "outputs": [],
   "source": [
    "clean_df2 = clean_df.dropna(subset=['GENDER'])"
   ]
  },
  {
   "cell_type": "code",
   "execution_count": 8,
   "metadata": {},
   "outputs": [],
   "source": [
    "clean_df.to_pickle('data/1103_cleaned.pkl')"
   ]
  },
  {
   "cell_type": "code",
   "execution_count": 51,
   "metadata": {},
   "outputs": [],
   "source": [
    "clean_df.to_csv('data/1103_cleaned.csv', index=False)"
   ]
  },
  {
   "cell_type": "code",
   "execution_count": 2,
   "metadata": {},
   "outputs": [],
   "source": [
    "clean_df = pd.read_pickle('data/1103_cleaned.pkl')"
   ]
  },
  {
   "cell_type": "code",
   "execution_count": 7,
   "metadata": {},
   "outputs": [],
   "source": [
    "clean_df = clean_df2.rename(columns={\"Challenged/Provisional\": \"challenge\", \"Ballot Status\": \"bstatus\"})"
   ]
  },
  {
   "cell_type": "code",
   "execution_count": 101,
   "metadata": {
    "scrolled": true
   },
   "outputs": [
    {
     "data": {
      "image/png": "[encoded data removed]",
      "text/plain": [
       "<Figure size 432x288 with 1 Axes>"
      ]
     },
     "metadata": {
      "needs_background": "light"
     },
     "output_type": "display_data"
    }
   ],
   "source": [
    "cols = [\"GENDER\"]\n",
    "final_res = pd.DataFrame (columns = cols + ['accept', 'reject'])\n",
    "grouped = clean_df.groupby(cols + ['challenge']).size()\n",
    "for val in list(grouped.index.get_level_values(cols[0]).unique()):\n",
    "    row = {cols[0] : val}\n",
    "    try:\n",
    "        row['accept'] = grouped[val]['NO']\n",
    "    except:\n",
    "        row['accept'] = 0\n",
    "    try:\n",
    "        row['reject'] = grouped[val]['YES']\n",
    "    except:\n",
    "        row['reject'] = 0\n",
    "    final_res = final_res.append(row,ignore_index=True)\n",
    "final_res['reject_rate'] = 100*final_res['reject']/(final_res['reject'] + final_res['accept'])\n",
    "ax = sns.barplot(x=cols[0], y=\"reject_rate\", data=final_res)\n",
    "plt.xticks(rotation=45)"
   ]
  },
  {
   "cell_type": "code",
   "execution_count": 24,
   "metadata": {
    "scrolled": false
   },
   "outputs": [
    {
     "data": {
      "text/plain": [
       "(array([0, 1, 2, 3, 4, 5, 6]), <a list of 7 Text xticklabel objects>)"
      ]
     },
     "execution_count": 24,
     "metadata": {},
     "output_type": "execute_result"
    },
    {
     "data": {
      "image/png": "[encoded data removed]",
      "text/plain": [
       "<Figure size 432x288 with 1 Axes>"
      ]
     },
     "metadata": {
      "needs_background": "light"
     },
     "output_type": "display_data"
    }
   ],
   "source": [
    "cols = [\"RACE_DESC\"]\n",
    "final_res = pd.DataFrame (columns = cols + ['accept', 'reject'])\n",
    "grouped = clean_df.groupby(cols + ['challenge']).size()\n",
    "for val in list(grouped.index.get_level_values(cols[0]).unique()):\n",
    "    row = {cols[0] : val}\n",
    "    try:\n",
    "        row['accept'] = grouped[val]['NO']\n",
    "    except:\n",
    "        row['accept'] = 0\n",
    "    try:\n",
    "        row['reject'] = grouped[val]['YES']\n",
    "    except:\n",
    "        row['reject'] = 0\n",
    "    final_res = final_res.append(row,ignore_index=True)\n",
    "final_res['reject_rate'] = (100*final_res['reject'])/((final_res['reject'] + final_res['accept']))\n",
    "ax = sns.barplot(x=cols[0], y=\"reject_rate\", data=final_res)\n",
    "plt.xticks(rotation=45)"
   ]
  },
  {
   "cell_type": "code",
   "execution_count": 25,
   "metadata": {},
   "outputs": [
    {
     "data": {
      "text/plain": [
       "RACE_DESC                          challenge\n",
       "American Indian or Alaskan Native  NO              7329\n",
       "                                   YES               10\n",
       "Asian or Pacific Islander          NO            115083\n",
       "                                   YES              274\n",
       "Black not of Hispanic Origin       NO           1195748\n",
       "                                   YES             1733\n",
       "Hispanic                           NO            114075\n",
       "                                   YES              156\n",
       "Other                              NO             70504\n",
       "                                   YES              113\n",
       "Unknown                            NO            293636\n",
       "                                   YES              252\n",
       "White not of Hispanic Origin       NO           2387450\n",
       "                                   YES              930\n",
       "dtype: int64"
      ]
     },
     "execution_count": 25,
     "metadata": {},
     "output_type": "execute_result"
    }
   ],
   "source": [
    "grouped"
   ]
  },
  {
   "cell_type": "code",
   "execution_count": 12,
   "metadata": {},
   "outputs": [
    {
     "data": {
      "text/html": [
       "<div>\n",
       "<style scoped>\n",
       "    .dataframe tbody tr th:only-of-type {\n",
       "        vertical-align: middle;\n",
       "    }\n",
       "\n",
       "    .dataframe tbody tr th {\n",
       "        vertical-align: top;\n",
       "    }\n",
       "\n",
       "    .dataframe thead th {\n",
       "        text-align: right;\n",
       "    }\n",
       "</style>\n",
       "<table border=\"1\" class=\"dataframe\">\n",
       "  <thead>\n",
       "    <tr style=\"text-align: right;\">\n",
       "      <th></th>\n",
       "      <th>RACE_DESC</th>\n",
       "      <th>accept</th>\n",
       "      <th>reject</th>\n",
       "      <th>reject_rate</th>\n",
       "    </tr>\n",
       "  </thead>\n",
       "  <tbody>\n",
       "    <tr>\n",
       "      <th>0</th>\n",
       "      <td>American Indian or Alaskan Native</td>\n",
       "      <td>7329</td>\n",
       "      <td>10</td>\n",
       "      <td>0.136258</td>\n",
       "    </tr>\n",
       "    <tr>\n",
       "      <th>1</th>\n",
       "      <td>Asian or Pacific Islander</td>\n",
       "      <td>115083</td>\n",
       "      <td>274</td>\n",
       "      <td>0.237524</td>\n",
       "    </tr>\n",
       "    <tr>\n",
       "      <th>2</th>\n",
       "      <td>Black not of Hispanic Origin</td>\n",
       "      <td>1195748</td>\n",
       "      <td>1733</td>\n",
       "      <td>0.14472</td>\n",
       "    </tr>\n",
       "    <tr>\n",
       "      <th>3</th>\n",
       "      <td>Hispanic</td>\n",
       "      <td>114075</td>\n",
       "      <td>156</td>\n",
       "      <td>0.136565</td>\n",
       "    </tr>\n",
       "    <tr>\n",
       "      <th>4</th>\n",
       "      <td>Other</td>\n",
       "      <td>70504</td>\n",
       "      <td>113</td>\n",
       "      <td>0.160018</td>\n",
       "    </tr>\n",
       "    <tr>\n",
       "      <th>5</th>\n",
       "      <td>Unknown</td>\n",
       "      <td>293636</td>\n",
       "      <td>252</td>\n",
       "      <td>0.085747</td>\n",
       "    </tr>\n",
       "    <tr>\n",
       "      <th>6</th>\n",
       "      <td>White not of Hispanic Origin</td>\n",
       "      <td>2387450</td>\n",
       "      <td>930</td>\n",
       "      <td>0.0389385</td>\n",
       "    </tr>\n",
       "  </tbody>\n",
       "</table>\n",
       "</div>"
      ],
      "text/plain": [
       "                           RACE_DESC   accept reject reject_rate\n",
       "0  American Indian or Alaskan Native     7329     10    0.136258\n",
       "1          Asian or Pacific Islander   115083    274    0.237524\n",
       "2       Black not of Hispanic Origin  1195748   1733     0.14472\n",
       "3                           Hispanic   114075    156    0.136565\n",
       "4                              Other    70504    113    0.160018\n",
       "5                            Unknown   293636    252    0.085747\n",
       "6       White not of Hispanic Origin  2387450    930   0.0389385"
      ]
     },
     "execution_count": 12,
     "metadata": {},
     "output_type": "execute_result"
    }
   ],
   "source": [
    "final_res"
   ]
  },
  {
   "cell_type": "code",
   "execution_count": 17,
   "metadata": {},
   "outputs": [],
   "source": [
    "grouped = clean_df.groupby(cols + ['Application Status']).size()"
   ]
  },
  {
   "cell_type": "code",
   "execution_count": 18,
   "metadata": {},
   "outputs": [
    {
     "data": {
      "text/plain": [
       "RACE_DESC                          Application Status\n",
       "American Indian or Alaskan Native  A                        7316\n",
       "                                   R                          23\n",
       "Asian or Pacific Islander          A                      114425\n",
       "                                   R                         932\n",
       "Black not of Hispanic Origin       A                     1192027\n",
       "                                   R                        5454\n",
       "Hispanic                           A                      113771\n",
       "                                   R                         460\n",
       "Other                              A                       70380\n",
       "                                   R                         237\n",
       "Unknown                            A                      293143\n",
       "                                   R                         745\n",
       "White not of Hispanic Origin       A                     2385068\n",
       "                                   R                        3312\n",
       "dtype: int64"
      ]
     },
     "execution_count": 18,
     "metadata": {},
     "output_type": "execute_result"
    }
   ],
   "source": [
    "grouped"
   ]
  },
  {
   "cell_type": "code",
   "execution_count": 30,
   "metadata": {},
   "outputs": [],
   "source": [
    "def reduce_join(df, columns):\n",
    "    assert len(columns) > 1\n",
    "    slist = [df[x].astype(str) for x in columns]\n",
    "    return reduce(lambda x, y: x + '_' + y, slist[1:], slist[0])"
   ]
  },
  {
   "cell_type": "code",
   "execution_count": 31,
   "metadata": {},
   "outputs": [],
   "source": [
    "cols = [\"RACE_DESC\",\"GENDER\"]\n",
    "clean_df['pop_type'] = reduce_join(clean_df, cols)"
   ]
  },
  {
   "cell_type": "code",
   "execution_count": 38,
   "metadata": {},
   "outputs": [],
   "source": [
    "final_res = pd.DataFrame (columns =  ['pop_type','accept', 'reject'])\n",
    "grouped = clean_df.groupby(['pop_type','challenge']).size()"
   ]
  },
  {
   "cell_type": "code",
   "execution_count": 40,
   "metadata": {},
   "outputs": [
    {
     "data": {
      "text/plain": [
       "(array([ 0,  1,  2,  3,  4,  5,  6,  7,  8,  9, 10, 11, 12, 13, 14, 15, 16,\n",
       "        17, 18, 19, 20]),\n",
       " <a list of 21 Text xticklabel objects>)"
      ]
     },
     "execution_count": 40,
     "metadata": {},
     "output_type": "execute_result"
    },
    {
     "data": {
      "image/png": "[encoded data removed]",
      "text/plain": [
       "<Figure size 432x288 with 1 Axes>"
      ]
     },
     "metadata": {
      "needs_background": "light"
     },
     "output_type": "display_data"
    }
   ],
   "source": [
    "for val in list(grouped.index.get_level_values('pop_type').unique()):\n",
    "    row = {'pop_type' : val}\n",
    "    try:\n",
    "        row['accept'] = grouped[val]['NO']\n",
    "    except:\n",
    "        row['accept'] = 0\n",
    "    try:\n",
    "        row['reject'] = grouped[val]['YES']\n",
    "    except:\n",
    "        row['reject'] = 0\n",
    "    final_res = final_res.append(row,ignore_index=True)\n",
    "final_res['reject_rate'] = (100*final_res['reject'])/((final_res['reject'] + final_res['accept']))\n",
    "ax = sns.barplot(x='pop_type', y=\"reject_rate\", data=final_res)\n",
    "plt.xticks(rotation=90)"
   ]
  },
  {
   "cell_type": "code",
   "execution_count": 41,
   "metadata": {},
   "outputs": [
    {
     "data": {
      "text/plain": [
       "pop_type                             challenge\n",
       "American Indian or Alaskan Native_F  NO              4001\n",
       "                                     YES                4\n",
       "American Indian or Alaskan Native_M  NO              3313\n",
       "                                     YES                6\n",
       "American Indian or Alaskan Native_O  NO                15\n",
       "Asian or Pacific Islander_F          NO             62331\n",
       "                                     YES              134\n",
       "Asian or Pacific Islander_M          NO             52273\n",
       "                                     YES              139\n",
       "Asian or Pacific Islander_O          NO               479\n",
       "                                     YES                1\n",
       "Black not of Hispanic Origin_F       NO            734683\n",
       "                                     YES              833\n",
       "Black not of Hispanic Origin_M       NO            459577\n",
       "                                     YES              889\n",
       "Black not of Hispanic Origin_O       NO              1488\n",
       "                                     YES               11\n",
       "Hispanic_F                           NO             65685\n",
       "                                     YES               82\n",
       "Hispanic_M                           NO             48095\n",
       "                                     YES               73\n",
       "Hispanic_O                           NO               295\n",
       "                                     YES                1\n",
       "Other_F                              NO             40895\n",
       "                                     YES               57\n",
       "Other_M                              NO             29330\n",
       "                                     YES               56\n",
       "Other_O                              NO               279\n",
       "Unknown_F                            NO            159155\n",
       "                                     YES              129\n",
       "Unknown_M                            NO            131688\n",
       "                                     YES              115\n",
       "Unknown_O                            NO              2793\n",
       "                                     YES                8\n",
       "White not of Hispanic Origin_F       NO           1294206\n",
       "                                     YES              482\n",
       "White not of Hispanic Origin_M       NO           1090458\n",
       "                                     YES              445\n",
       "White not of Hispanic Origin_O       NO              2786\n",
       "                                     YES                3\n",
       "dtype: int64"
      ]
     },
     "execution_count": 41,
     "metadata": {},
     "output_type": "execute_result"
    }
   ],
   "source": [
    "grouped"
   ]
  },
  {
   "cell_type": "code",
   "execution_count": 43,
   "metadata": {},
   "outputs": [
    {
     "data": {
      "text/html": [
       "<div>\n",
       "<style scoped>\n",
       "    .dataframe tbody tr th:only-of-type {\n",
       "        vertical-align: middle;\n",
       "    }\n",
       "\n",
       "    .dataframe tbody tr th {\n",
       "        vertical-align: top;\n",
       "    }\n",
       "\n",
       "    .dataframe thead th {\n",
       "        text-align: right;\n",
       "    }\n",
       "</style>\n",
       "<table border=\"1\" class=\"dataframe\">\n",
       "  <thead>\n",
       "    <tr style=\"text-align: right;\">\n",
       "      <th></th>\n",
       "      <th>County</th>\n",
       "      <th>Voter Registration #</th>\n",
       "      <th>Last Name</th>\n",
       "      <th>First Name</th>\n",
       "      <th>Middle Name</th>\n",
       "      <th>Suffix</th>\n",
       "      <th>Street #</th>\n",
       "      <th>Street Name</th>\n",
       "      <th>Apt/Unit</th>\n",
       "      <th>City</th>\n",
       "      <th>...</th>\n",
       "      <th>MAIL_HOUSE_NBR</th>\n",
       "      <th>MAIL_STREET_NAME</th>\n",
       "      <th>MAIL_APT_UNIT_NBR</th>\n",
       "      <th>MAIL_CITY</th>\n",
       "      <th>MAIL_STATE</th>\n",
       "      <th>MAIL_ZIPCODE</th>\n",
       "      <th>MAIL_ADDRESS_2</th>\n",
       "      <th>MAIL_ADDRESS_3</th>\n",
       "      <th>MAIL_COUNTRY</th>\n",
       "      <th>pop_type</th>\n",
       "    </tr>\n",
       "  </thead>\n",
       "  <tbody>\n",
       "    <tr>\n",
       "      <th>5508</th>\n",
       "      <td>APPLING</td>\n",
       "      <td>12523272</td>\n",
       "      <td>HARDEE</td>\n",
       "      <td>TRIPP</td>\n",
       "      <td>AUSTIN</td>\n",
       "      <td>NaN</td>\n",
       "      <td>66</td>\n",
       "      <td>ANTHONY ST</td>\n",
       "      <td></td>\n",
       "      <td>BAXLEY</td>\n",
       "      <td>...</td>\n",
       "      <td>NaN</td>\n",
       "      <td>66 ANTHONY</td>\n",
       "      <td>NaN</td>\n",
       "      <td>BAXLEY,GEORGIA,31513</td>\n",
       "      <td>NaN</td>\n",
       "      <td>NaN</td>\n",
       "      <td>NaN</td>\n",
       "      <td>NaN</td>\n",
       "      <td>US</td>\n",
       "      <td>White not of Hispanic Origin_O</td>\n",
       "    </tr>\n",
       "    <tr>\n",
       "      <th>6140</th>\n",
       "      <td>APPLING</td>\n",
       "      <td>12654075</td>\n",
       "      <td>CONAWAY</td>\n",
       "      <td>ROMANSKI</td>\n",
       "      <td>DERRIQUE</td>\n",
       "      <td>JR</td>\n",
       "      <td>529</td>\n",
       "      <td>MILES RD</td>\n",
       "      <td></td>\n",
       "      <td>BAXLEY</td>\n",
       "      <td>...</td>\n",
       "      <td>529</td>\n",
       "      <td>MILES RD</td>\n",
       "      <td>NaN</td>\n",
       "      <td>BAXLEY</td>\n",
       "      <td>GA</td>\n",
       "      <td>31513</td>\n",
       "      <td>NaN</td>\n",
       "      <td>NaN</td>\n",
       "      <td>NaN</td>\n",
       "      <td>Unknown_O</td>\n",
       "    </tr>\n",
       "    <tr>\n",
       "      <th>6265</th>\n",
       "      <td>APPLING</td>\n",
       "      <td>11097142</td>\n",
       "      <td>MEDLIN</td>\n",
       "      <td>CHRISTOPHER</td>\n",
       "      <td>SNOW</td>\n",
       "      <td>NaN</td>\n",
       "      <td>378</td>\n",
       "      <td>FAIR ST</td>\n",
       "      <td></td>\n",
       "      <td>BAXLEY</td>\n",
       "      <td>...</td>\n",
       "      <td>378</td>\n",
       "      <td>FAIR ST</td>\n",
       "      <td>NaN</td>\n",
       "      <td>BAXLEY</td>\n",
       "      <td>GA</td>\n",
       "      <td>31513</td>\n",
       "      <td>NaN</td>\n",
       "      <td>NaN</td>\n",
       "      <td>NaN</td>\n",
       "      <td>White not of Hispanic Origin_O</td>\n",
       "    </tr>\n",
       "    <tr>\n",
       "      <th>7107</th>\n",
       "      <td>ATKINSON</td>\n",
       "      <td>584045</td>\n",
       "      <td>WILSON</td>\n",
       "      <td>DONNA</td>\n",
       "      <td>PETRELL</td>\n",
       "      <td>NaN</td>\n",
       "      <td>356</td>\n",
       "      <td>HERITAGE HILL RD</td>\n",
       "      <td></td>\n",
       "      <td>WILLACOOCHEE</td>\n",
       "      <td>...</td>\n",
       "      <td>NaN</td>\n",
       "      <td>NaN</td>\n",
       "      <td>NaN</td>\n",
       "      <td>NaN</td>\n",
       "      <td>NaN</td>\n",
       "      <td>NaN</td>\n",
       "      <td>NaN</td>\n",
       "      <td>NaN</td>\n",
       "      <td>NaN</td>\n",
       "      <td>Black not of Hispanic Origin_O</td>\n",
       "    </tr>\n",
       "    <tr>\n",
       "      <th>7198</th>\n",
       "      <td>ATKINSON</td>\n",
       "      <td>11955817</td>\n",
       "      <td>MATHEWS</td>\n",
       "      <td>JORDAN</td>\n",
       "      <td>ARIANNA</td>\n",
       "      <td>NaN</td>\n",
       "      <td>1941</td>\n",
       "      <td>COGDELL HWY</td>\n",
       "      <td></td>\n",
       "      <td>PEARSON</td>\n",
       "      <td>...</td>\n",
       "      <td>NaN</td>\n",
       "      <td>NaN</td>\n",
       "      <td>NaN</td>\n",
       "      <td>NaN</td>\n",
       "      <td>NaN</td>\n",
       "      <td>NaN</td>\n",
       "      <td>NaN</td>\n",
       "      <td>NaN</td>\n",
       "      <td>NaN</td>\n",
       "      <td>White not of Hispanic Origin_O</td>\n",
       "    </tr>\n",
       "  </tbody>\n",
       "</table>\n",
       "<p>5 rows × 102 columns</p>\n",
       "</div>"
      ],
      "text/plain": [
       "        County  Voter Registration # Last Name   First Name Middle Name  \\\n",
       "5508   APPLING              12523272    HARDEE        TRIPP      AUSTIN   \n",
       "6140   APPLING              12654075   CONAWAY     ROMANSKI    DERRIQUE   \n",
       "6265   APPLING              11097142    MEDLIN  CHRISTOPHER        SNOW   \n",
       "7107  ATKINSON                584045    WILSON        DONNA     PETRELL   \n",
       "7198  ATKINSON              11955817   MATHEWS       JORDAN     ARIANNA   \n",
       "\n",
       "     Suffix Street #       Street Name Apt/Unit          City  ...  \\\n",
       "5508    NaN       66        ANTHONY ST                 BAXLEY  ...   \n",
       "6140     JR      529          MILES RD                 BAXLEY  ...   \n",
       "6265    NaN      378           FAIR ST                 BAXLEY  ...   \n",
       "7107    NaN      356  HERITAGE HILL RD           WILLACOOCHEE  ...   \n",
       "7198    NaN     1941       COGDELL HWY                PEARSON  ...   \n",
       "\n",
       "     MAIL_HOUSE_NBR MAIL_STREET_NAME MAIL_APT_UNIT_NBR             MAIL_CITY  \\\n",
       "5508            NaN       66 ANTHONY               NaN  BAXLEY,GEORGIA,31513   \n",
       "6140            529         MILES RD               NaN                BAXLEY   \n",
       "6265            378          FAIR ST               NaN                BAXLEY   \n",
       "7107            NaN              NaN               NaN                   NaN   \n",
       "7198            NaN              NaN               NaN                   NaN   \n",
       "\n",
       "     MAIL_STATE MAIL_ZIPCODE MAIL_ADDRESS_2 MAIL_ADDRESS_3 MAIL_COUNTRY  \\\n",
       "5508        NaN          NaN            NaN            NaN           US   \n",
       "6140         GA        31513            NaN            NaN          NaN   \n",
       "6265         GA        31513            NaN            NaN          NaN   \n",
       "7107        NaN          NaN            NaN            NaN          NaN   \n",
       "7198        NaN          NaN            NaN            NaN          NaN   \n",
       "\n",
       "                            pop_type  \n",
       "5508  White not of Hispanic Origin_O  \n",
       "6140                       Unknown_O  \n",
       "6265  White not of Hispanic Origin_O  \n",
       "7107  Black not of Hispanic Origin_O  \n",
       "7198  White not of Hispanic Origin_O  \n",
       "\n",
       "[5 rows x 102 columns]"
      ]
     },
     "execution_count": 43,
     "metadata": {},
     "output_type": "execute_result"
    }
   ],
   "source": [
    "clean_df[clean_df['GENDER']=='O' and clean_df['challenge']=='YES'].head()"
   ]
  },
  {
   "cell_type": "code",
   "execution_count": 44,
   "metadata": {},
   "outputs": [
    {
     "data": {
      "text/html": [
       "<div>\n",
       "<style scoped>\n",
       "    .dataframe tbody tr th:only-of-type {\n",
       "        vertical-align: middle;\n",
       "    }\n",
       "\n",
       "    .dataframe tbody tr th {\n",
       "        vertical-align: top;\n",
       "    }\n",
       "\n",
       "    .dataframe thead th {\n",
       "        text-align: right;\n",
       "    }\n",
       "</style>\n",
       "<table border=\"1\" class=\"dataframe\">\n",
       "  <thead>\n",
       "    <tr style=\"text-align: right;\">\n",
       "      <th></th>\n",
       "      <th>County</th>\n",
       "      <th>Voter Registration #</th>\n",
       "      <th>Last Name</th>\n",
       "      <th>First Name</th>\n",
       "      <th>Middle Name</th>\n",
       "      <th>Suffix</th>\n",
       "      <th>Street #</th>\n",
       "      <th>Street Name</th>\n",
       "      <th>Apt/Unit</th>\n",
       "      <th>City</th>\n",
       "      <th>...</th>\n",
       "      <th>MAIL_HOUSE_NBR</th>\n",
       "      <th>MAIL_STREET_NAME</th>\n",
       "      <th>MAIL_APT_UNIT_NBR</th>\n",
       "      <th>MAIL_CITY</th>\n",
       "      <th>MAIL_STATE</th>\n",
       "      <th>MAIL_ZIPCODE</th>\n",
       "      <th>MAIL_ADDRESS_2</th>\n",
       "      <th>MAIL_ADDRESS_3</th>\n",
       "      <th>MAIL_COUNTRY</th>\n",
       "      <th>pop_type</th>\n",
       "    </tr>\n",
       "  </thead>\n",
       "  <tbody>\n",
       "    <tr>\n",
       "      <th>44724</th>\n",
       "      <td>BARROW</td>\n",
       "      <td>3559317</td>\n",
       "      <td>CRUCERU</td>\n",
       "      <td>MARIAN</td>\n",
       "      <td>NaN</td>\n",
       "      <td>NaN</td>\n",
       "      <td>1910</td>\n",
       "      <td>E BAY ST</td>\n",
       "      <td></td>\n",
       "      <td>HOSCHTON</td>\n",
       "      <td>...</td>\n",
       "      <td>NaN</td>\n",
       "      <td>NaN</td>\n",
       "      <td>NaN</td>\n",
       "      <td>NaN</td>\n",
       "      <td>NaN</td>\n",
       "      <td>NaN</td>\n",
       "      <td>NaN</td>\n",
       "      <td>NaN</td>\n",
       "      <td>NaN</td>\n",
       "      <td>White not of Hispanic Origin_M</td>\n",
       "    </tr>\n",
       "    <tr>\n",
       "      <th>57963</th>\n",
       "      <td>BARROW</td>\n",
       "      <td>11386452</td>\n",
       "      <td>STONE</td>\n",
       "      <td>ANNA</td>\n",
       "      <td>LEE</td>\n",
       "      <td>NaN</td>\n",
       "      <td>308</td>\n",
       "      <td>HARRISON LN</td>\n",
       "      <td></td>\n",
       "      <td>WINDER</td>\n",
       "      <td>...</td>\n",
       "      <td>308</td>\n",
       "      <td>HARRISON LN</td>\n",
       "      <td>NaN</td>\n",
       "      <td>WINDER</td>\n",
       "      <td>GA</td>\n",
       "      <td>30680</td>\n",
       "      <td>NaN</td>\n",
       "      <td>NaN</td>\n",
       "      <td>NaN</td>\n",
       "      <td>White not of Hispanic Origin_F</td>\n",
       "    </tr>\n",
       "    <tr>\n",
       "      <th>61603</th>\n",
       "      <td>BARROW</td>\n",
       "      <td>12158207</td>\n",
       "      <td>AYESU</td>\n",
       "      <td>ERIC</td>\n",
       "      <td>NaN</td>\n",
       "      <td>NaN</td>\n",
       "      <td>1506</td>\n",
       "      <td>FARMINGTON WAY</td>\n",
       "      <td>APT 111</td>\n",
       "      <td>WINDER</td>\n",
       "      <td>...</td>\n",
       "      <td>1506</td>\n",
       "      <td>FARMINGTON WAY</td>\n",
       "      <td>APT 111</td>\n",
       "      <td>WINDER</td>\n",
       "      <td>GA</td>\n",
       "      <td>3.06805e+08</td>\n",
       "      <td>NaN</td>\n",
       "      <td>NaN</td>\n",
       "      <td>NaN</td>\n",
       "      <td>Black not of Hispanic Origin_M</td>\n",
       "    </tr>\n",
       "    <tr>\n",
       "      <th>73165</th>\n",
       "      <td>BARTOW</td>\n",
       "      <td>11997524</td>\n",
       "      <td>WATERS</td>\n",
       "      <td>JAMES</td>\n",
       "      <td>DAVID</td>\n",
       "      <td>NaN</td>\n",
       "      <td>62</td>\n",
       "      <td>BISHOP MILL DR NW</td>\n",
       "      <td></td>\n",
       "      <td>CARTERSVILLE</td>\n",
       "      <td>...</td>\n",
       "      <td>62</td>\n",
       "      <td>BISHOP MILL DR NW</td>\n",
       "      <td>NaN</td>\n",
       "      <td>CARTERSVILLE</td>\n",
       "      <td>GA</td>\n",
       "      <td>3.01218e+08</td>\n",
       "      <td>NaN</td>\n",
       "      <td>NaN</td>\n",
       "      <td>NaN</td>\n",
       "      <td>Other_M</td>\n",
       "    </tr>\n",
       "    <tr>\n",
       "      <th>73185</th>\n",
       "      <td>BARTOW</td>\n",
       "      <td>12450709</td>\n",
       "      <td>JIMENEZ</td>\n",
       "      <td>KEILA</td>\n",
       "      <td>NaN</td>\n",
       "      <td>NaN</td>\n",
       "      <td>25</td>\n",
       "      <td>MOCKINGBIRD DR</td>\n",
       "      <td></td>\n",
       "      <td>CARTERSVILLE</td>\n",
       "      <td>...</td>\n",
       "      <td>NaN</td>\n",
       "      <td>PO BOX 4118</td>\n",
       "      <td>NaN</td>\n",
       "      <td>CARTERSVILLE</td>\n",
       "      <td>GA</td>\n",
       "      <td>3.01202e+08</td>\n",
       "      <td>NaN</td>\n",
       "      <td>NaN</td>\n",
       "      <td>NaN</td>\n",
       "      <td>Hispanic_F</td>\n",
       "    </tr>\n",
       "  </tbody>\n",
       "</table>\n",
       "<p>5 rows × 102 columns</p>\n",
       "</div>"
      ],
      "text/plain": [
       "       County  Voter Registration # Last Name First Name Middle Name Suffix  \\\n",
       "44724  BARROW               3559317   CRUCERU     MARIAN         NaN    NaN   \n",
       "57963  BARROW              11386452     STONE       ANNA         LEE    NaN   \n",
       "61603  BARROW              12158207     AYESU       ERIC         NaN    NaN   \n",
       "73165  BARTOW              11997524    WATERS      JAMES       DAVID    NaN   \n",
       "73185  BARTOW              12450709   JIMENEZ      KEILA         NaN    NaN   \n",
       "\n",
       "      Street #        Street Name Apt/Unit          City  ... MAIL_HOUSE_NBR  \\\n",
       "44724     1910           E BAY ST               HOSCHTON  ...            NaN   \n",
       "57963      308        HARRISON LN                 WINDER  ...            308   \n",
       "61603     1506     FARMINGTON WAY  APT 111        WINDER  ...           1506   \n",
       "73165       62  BISHOP MILL DR NW           CARTERSVILLE  ...             62   \n",
       "73185       25     MOCKINGBIRD DR           CARTERSVILLE  ...            NaN   \n",
       "\n",
       "        MAIL_STREET_NAME MAIL_APT_UNIT_NBR     MAIL_CITY MAIL_STATE  \\\n",
       "44724                NaN               NaN           NaN        NaN   \n",
       "57963        HARRISON LN               NaN        WINDER         GA   \n",
       "61603     FARMINGTON WAY           APT 111        WINDER         GA   \n",
       "73165  BISHOP MILL DR NW               NaN  CARTERSVILLE         GA   \n",
       "73185        PO BOX 4118               NaN  CARTERSVILLE         GA   \n",
       "\n",
       "      MAIL_ZIPCODE MAIL_ADDRESS_2 MAIL_ADDRESS_3 MAIL_COUNTRY  \\\n",
       "44724          NaN            NaN            NaN          NaN   \n",
       "57963        30680            NaN            NaN          NaN   \n",
       "61603  3.06805e+08            NaN            NaN          NaN   \n",
       "73165  3.01218e+08            NaN            NaN          NaN   \n",
       "73185  3.01202e+08            NaN            NaN          NaN   \n",
       "\n",
       "                             pop_type  \n",
       "44724  White not of Hispanic Origin_M  \n",
       "57963  White not of Hispanic Origin_F  \n",
       "61603  Black not of Hispanic Origin_M  \n",
       "73165                         Other_M  \n",
       "73185                      Hispanic_F  \n",
       "\n",
       "[5 rows x 102 columns]"
      ]
     },
     "execution_count": 44,
     "metadata": {},
     "output_type": "execute_result"
    }
   ],
   "source": [
    "clean_df[clean_df['challenge']=='YES'].head()"
   ]
  },
  {
   "cell_type": "code",
   "execution_count": 46,
   "metadata": {},
   "outputs": [
    {
     "data": {
      "text/html": [
       "<div>\n",
       "<style scoped>\n",
       "    .dataframe tbody tr th:only-of-type {\n",
       "        vertical-align: middle;\n",
       "    }\n",
       "\n",
       "    .dataframe tbody tr th {\n",
       "        vertical-align: top;\n",
       "    }\n",
       "\n",
       "    .dataframe thead th {\n",
       "        text-align: right;\n",
       "    }\n",
       "</style>\n",
       "<table border=\"1\" class=\"dataframe\">\n",
       "  <thead>\n",
       "    <tr style=\"text-align: right;\">\n",
       "      <th></th>\n",
       "      <th>County</th>\n",
       "      <th>Voter Registration #</th>\n",
       "      <th>Last Name</th>\n",
       "      <th>First Name</th>\n",
       "      <th>Middle Name</th>\n",
       "      <th>Suffix</th>\n",
       "      <th>Street #</th>\n",
       "      <th>Street Name</th>\n",
       "      <th>Apt/Unit</th>\n",
       "      <th>City</th>\n",
       "      <th>...</th>\n",
       "      <th>MAIL_HOUSE_NBR</th>\n",
       "      <th>MAIL_STREET_NAME</th>\n",
       "      <th>MAIL_APT_UNIT_NBR</th>\n",
       "      <th>MAIL_CITY</th>\n",
       "      <th>MAIL_STATE</th>\n",
       "      <th>MAIL_ZIPCODE</th>\n",
       "      <th>MAIL_ADDRESS_2</th>\n",
       "      <th>MAIL_ADDRESS_3</th>\n",
       "      <th>MAIL_COUNTRY</th>\n",
       "      <th>pop_type</th>\n",
       "    </tr>\n",
       "  </thead>\n",
       "  <tbody>\n",
       "    <tr>\n",
       "      <th>0</th>\n",
       "      <td>APPLING</td>\n",
       "      <td>4670838</td>\n",
       "      <td>HUGHES</td>\n",
       "      <td>MABLE</td>\n",
       "      <td>J</td>\n",
       "      <td>NaN</td>\n",
       "      <td>623</td>\n",
       "      <td>RED DOT RD</td>\n",
       "      <td>APT 1</td>\n",
       "      <td>BAXLEY</td>\n",
       "      <td>...</td>\n",
       "      <td>NaN</td>\n",
       "      <td>NaN</td>\n",
       "      <td>NaN</td>\n",
       "      <td>NaN</td>\n",
       "      <td>NaN</td>\n",
       "      <td>NaN</td>\n",
       "      <td>NaN</td>\n",
       "      <td>NaN</td>\n",
       "      <td>NaN</td>\n",
       "      <td>Black not of Hispanic Origin_F</td>\n",
       "    </tr>\n",
       "    <tr>\n",
       "      <th>1</th>\n",
       "      <td>APPLING</td>\n",
       "      <td>651532</td>\n",
       "      <td>HARPER</td>\n",
       "      <td>RANZE</td>\n",
       "      <td>N</td>\n",
       "      <td>NaN</td>\n",
       "      <td>1602</td>\n",
       "      <td>DUPE HERNDON RD</td>\n",
       "      <td></td>\n",
       "      <td>SURRENCY</td>\n",
       "      <td>...</td>\n",
       "      <td>NaN</td>\n",
       "      <td>NaN</td>\n",
       "      <td>NaN</td>\n",
       "      <td>NaN</td>\n",
       "      <td>NaN</td>\n",
       "      <td>NaN</td>\n",
       "      <td>NaN</td>\n",
       "      <td>NaN</td>\n",
       "      <td>NaN</td>\n",
       "      <td>White not of Hispanic Origin_M</td>\n",
       "    </tr>\n",
       "    <tr>\n",
       "      <th>2</th>\n",
       "      <td>APPLING</td>\n",
       "      <td>650195</td>\n",
       "      <td>NEWKIRK</td>\n",
       "      <td>CLISTEN</td>\n",
       "      <td>NaN</td>\n",
       "      <td>NaN</td>\n",
       "      <td>133</td>\n",
       "      <td>POOR ROBIN RD</td>\n",
       "      <td></td>\n",
       "      <td>BAXLEY</td>\n",
       "      <td>...</td>\n",
       "      <td>NaN</td>\n",
       "      <td>PO BOX 519</td>\n",
       "      <td>NaN</td>\n",
       "      <td>BAXLEY</td>\n",
       "      <td>GA</td>\n",
       "      <td>315150051</td>\n",
       "      <td>NaN</td>\n",
       "      <td>NaN</td>\n",
       "      <td>NaN</td>\n",
       "      <td>Black not of Hispanic Origin_F</td>\n",
       "    </tr>\n",
       "    <tr>\n",
       "      <th>3</th>\n",
       "      <td>APPLING</td>\n",
       "      <td>4502220</td>\n",
       "      <td>ROBERTS</td>\n",
       "      <td>JENNIFER</td>\n",
       "      <td>GRACE</td>\n",
       "      <td>NaN</td>\n",
       "      <td>670</td>\n",
       "      <td>GRAHAM ZOAR RD</td>\n",
       "      <td></td>\n",
       "      <td>BAXLEY</td>\n",
       "      <td>...</td>\n",
       "      <td>NaN</td>\n",
       "      <td>NaN</td>\n",
       "      <td>NaN</td>\n",
       "      <td>NaN</td>\n",
       "      <td>NaN</td>\n",
       "      <td>NaN</td>\n",
       "      <td>NaN</td>\n",
       "      <td>NaN</td>\n",
       "      <td>NaN</td>\n",
       "      <td>White not of Hispanic Origin_F</td>\n",
       "    </tr>\n",
       "    <tr>\n",
       "      <th>4</th>\n",
       "      <td>APPLING</td>\n",
       "      <td>8131824</td>\n",
       "      <td>NAILS</td>\n",
       "      <td>VERNON</td>\n",
       "      <td>DEON</td>\n",
       "      <td>NaN</td>\n",
       "      <td>3452</td>\n",
       "      <td>PINEY BLUFF RD</td>\n",
       "      <td></td>\n",
       "      <td>BAXLEY</td>\n",
       "      <td>...</td>\n",
       "      <td>NaN</td>\n",
       "      <td>NaN</td>\n",
       "      <td>NaN</td>\n",
       "      <td>NaN</td>\n",
       "      <td>NaN</td>\n",
       "      <td>NaN</td>\n",
       "      <td>NaN</td>\n",
       "      <td>NaN</td>\n",
       "      <td>NaN</td>\n",
       "      <td>Black not of Hispanic Origin_M</td>\n",
       "    </tr>\n",
       "  </tbody>\n",
       "</table>\n",
       "<p>5 rows × 102 columns</p>\n",
       "</div>"
      ],
      "text/plain": [
       "    County  Voter Registration # Last Name First Name Middle Name Suffix  \\\n",
       "0  APPLING               4670838    HUGHES      MABLE           J    NaN   \n",
       "1  APPLING                651532    HARPER      RANZE           N    NaN   \n",
       "2  APPLING                650195   NEWKIRK    CLISTEN         NaN    NaN   \n",
       "3  APPLING               4502220   ROBERTS   JENNIFER       GRACE    NaN   \n",
       "4  APPLING               8131824     NAILS     VERNON        DEON    NaN   \n",
       "\n",
       "  Street #      Street Name Apt/Unit      City  ... MAIL_HOUSE_NBR  \\\n",
       "0      623       RED DOT RD    APT 1    BAXLEY  ...            NaN   \n",
       "1     1602  DUPE HERNDON RD           SURRENCY  ...            NaN   \n",
       "2      133    POOR ROBIN RD             BAXLEY  ...            NaN   \n",
       "3      670   GRAHAM ZOAR RD             BAXLEY  ...            NaN   \n",
       "4     3452   PINEY BLUFF RD             BAXLEY  ...            NaN   \n",
       "\n",
       "  MAIL_STREET_NAME MAIL_APT_UNIT_NBR MAIL_CITY MAIL_STATE MAIL_ZIPCODE  \\\n",
       "0              NaN               NaN       NaN        NaN          NaN   \n",
       "1              NaN               NaN       NaN        NaN          NaN   \n",
       "2       PO BOX 519               NaN    BAXLEY         GA    315150051   \n",
       "3              NaN               NaN       NaN        NaN          NaN   \n",
       "4              NaN               NaN       NaN        NaN          NaN   \n",
       "\n",
       "  MAIL_ADDRESS_2 MAIL_ADDRESS_3 MAIL_COUNTRY                        pop_type  \n",
       "0            NaN            NaN          NaN  Black not of Hispanic Origin_F  \n",
       "1            NaN            NaN          NaN  White not of Hispanic Origin_M  \n",
       "2            NaN            NaN          NaN  Black not of Hispanic Origin_F  \n",
       "3            NaN            NaN          NaN  White not of Hispanic Origin_F  \n",
       "4            NaN            NaN          NaN  Black not of Hispanic Origin_M  \n",
       "\n",
       "[5 rows x 102 columns]"
      ]
     },
     "execution_count": 46,
     "metadata": {},
     "output_type": "execute_result"
    }
   ],
   "source": [
    "clean_df[clean_df['Application Status']=='A'].head()"
   ]
  },
  {
   "cell_type": "code",
   "execution_count": 47,
   "metadata": {},
   "outputs": [],
   "source": [
    "grouped_2 = clean_df.groupby(['County', 'Application Status']).size()"
   ]
  },
  {
   "cell_type": "code",
   "execution_count": 50,
   "metadata": {},
   "outputs": [
    {
     "name": "stdout",
     "output_type": "stream",
     "text": [
      "County     Application Status\n",
      "APPLING    A                      6580\n",
      "ATKINSON   A                      2232\n",
      "BACON      A                      4133\n",
      "BAKER      A                      1203\n",
      "BALDWIN    A                     16433\n",
      "                                 ...  \n",
      "WHITFIELD  A                     25413\n",
      "WILCOX     A                      2316\n",
      "WILKES     A                      4057\n",
      "WILKINSON  A                      3107\n",
      "WORTH      A                      6169\n",
      "Length: 230, dtype: int64\n"
     ]
    }
   ],
   "source": []
  },
  {
   "cell_type": "code",
   "execution_count": null,
   "metadata": {},
   "outputs": [],
   "source": []
  }
 ],
 "metadata": {
  "kernelspec": {
   "display_name": "Python 3",
   "language": "python",
   "name": "python3"
  },
  "language_info": {
   "codemirror_mode": {
    "name": "ipython",
    "version": 3
   },
   "file_extension": ".py",
   "mimetype": "text/x-python",
   "name": "python",
   "nbconvert_exporter": "python",
   "pygments_lexer": "ipython3",
   "version": "3.7.6"
  }
 },
 "nbformat": 4,
 "nbformat_minor": 4
}
